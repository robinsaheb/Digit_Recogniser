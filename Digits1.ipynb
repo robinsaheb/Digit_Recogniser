{
 "cells": [
  {
   "cell_type": "code",
   "execution_count": 1,
   "metadata": {},
   "outputs": [
    {
     "name": "stderr",
     "output_type": "stream",
     "text": [
      "Using TensorFlow backend.\n"
     ]
    }
   ],
   "source": [
    "import pandas as pd\n",
    "import numpy as np\n",
    "import keras\n",
    "from sklearn.model_selection import train_test_split\n",
    "import seaborn as sns\n",
    "import matplotlib.pyplot as plt\n",
    "from sklearn import preprocessing\n",
    "from keras.utils import to_categorical\n",
    "from keras.models import Sequential\n",
    "from keras.layers import Dense, Dropout, Flatten, Conv2D, MaxPool2D\n",
    "from keras.optimizers import RMSprop\n",
    "from keras.preprocessing.image import ImageDataGenerator\n",
    "from keras.callbacks import ReduceLROnPlateau"
   ]
  },
  {
   "cell_type": "code",
   "execution_count": 2,
   "metadata": {},
   "outputs": [
    {
     "data": {
      "text/html": [
       "<div>\n",
       "<style>\n",
       "    .dataframe thead tr:only-child th {\n",
       "        text-align: right;\n",
       "    }\n",
       "\n",
       "    .dataframe thead th {\n",
       "        text-align: left;\n",
       "    }\n",
       "\n",
       "    .dataframe tbody tr th {\n",
       "        vertical-align: top;\n",
       "    }\n",
       "</style>\n",
       "<table border=\"1\" class=\"dataframe\">\n",
       "  <thead>\n",
       "    <tr style=\"text-align: right;\">\n",
       "      <th></th>\n",
       "      <th>label</th>\n",
       "      <th>pixel0</th>\n",
       "      <th>pixel1</th>\n",
       "      <th>pixel2</th>\n",
       "      <th>pixel3</th>\n",
       "      <th>pixel4</th>\n",
       "      <th>pixel5</th>\n",
       "      <th>pixel6</th>\n",
       "      <th>pixel7</th>\n",
       "      <th>pixel8</th>\n",
       "      <th>...</th>\n",
       "      <th>pixel774</th>\n",
       "      <th>pixel775</th>\n",
       "      <th>pixel776</th>\n",
       "      <th>pixel777</th>\n",
       "      <th>pixel778</th>\n",
       "      <th>pixel779</th>\n",
       "      <th>pixel780</th>\n",
       "      <th>pixel781</th>\n",
       "      <th>pixel782</th>\n",
       "      <th>pixel783</th>\n",
       "    </tr>\n",
       "  </thead>\n",
       "  <tbody>\n",
       "    <tr>\n",
       "      <th>0</th>\n",
       "      <td>1</td>\n",
       "      <td>0</td>\n",
       "      <td>0</td>\n",
       "      <td>0</td>\n",
       "      <td>0</td>\n",
       "      <td>0</td>\n",
       "      <td>0</td>\n",
       "      <td>0</td>\n",
       "      <td>0</td>\n",
       "      <td>0</td>\n",
       "      <td>...</td>\n",
       "      <td>0</td>\n",
       "      <td>0</td>\n",
       "      <td>0</td>\n",
       "      <td>0</td>\n",
       "      <td>0</td>\n",
       "      <td>0</td>\n",
       "      <td>0</td>\n",
       "      <td>0</td>\n",
       "      <td>0</td>\n",
       "      <td>0</td>\n",
       "    </tr>\n",
       "    <tr>\n",
       "      <th>1</th>\n",
       "      <td>0</td>\n",
       "      <td>0</td>\n",
       "      <td>0</td>\n",
       "      <td>0</td>\n",
       "      <td>0</td>\n",
       "      <td>0</td>\n",
       "      <td>0</td>\n",
       "      <td>0</td>\n",
       "      <td>0</td>\n",
       "      <td>0</td>\n",
       "      <td>...</td>\n",
       "      <td>0</td>\n",
       "      <td>0</td>\n",
       "      <td>0</td>\n",
       "      <td>0</td>\n",
       "      <td>0</td>\n",
       "      <td>0</td>\n",
       "      <td>0</td>\n",
       "      <td>0</td>\n",
       "      <td>0</td>\n",
       "      <td>0</td>\n",
       "    </tr>\n",
       "    <tr>\n",
       "      <th>2</th>\n",
       "      <td>1</td>\n",
       "      <td>0</td>\n",
       "      <td>0</td>\n",
       "      <td>0</td>\n",
       "      <td>0</td>\n",
       "      <td>0</td>\n",
       "      <td>0</td>\n",
       "      <td>0</td>\n",
       "      <td>0</td>\n",
       "      <td>0</td>\n",
       "      <td>...</td>\n",
       "      <td>0</td>\n",
       "      <td>0</td>\n",
       "      <td>0</td>\n",
       "      <td>0</td>\n",
       "      <td>0</td>\n",
       "      <td>0</td>\n",
       "      <td>0</td>\n",
       "      <td>0</td>\n",
       "      <td>0</td>\n",
       "      <td>0</td>\n",
       "    </tr>\n",
       "    <tr>\n",
       "      <th>3</th>\n",
       "      <td>4</td>\n",
       "      <td>0</td>\n",
       "      <td>0</td>\n",
       "      <td>0</td>\n",
       "      <td>0</td>\n",
       "      <td>0</td>\n",
       "      <td>0</td>\n",
       "      <td>0</td>\n",
       "      <td>0</td>\n",
       "      <td>0</td>\n",
       "      <td>...</td>\n",
       "      <td>0</td>\n",
       "      <td>0</td>\n",
       "      <td>0</td>\n",
       "      <td>0</td>\n",
       "      <td>0</td>\n",
       "      <td>0</td>\n",
       "      <td>0</td>\n",
       "      <td>0</td>\n",
       "      <td>0</td>\n",
       "      <td>0</td>\n",
       "    </tr>\n",
       "    <tr>\n",
       "      <th>4</th>\n",
       "      <td>0</td>\n",
       "      <td>0</td>\n",
       "      <td>0</td>\n",
       "      <td>0</td>\n",
       "      <td>0</td>\n",
       "      <td>0</td>\n",
       "      <td>0</td>\n",
       "      <td>0</td>\n",
       "      <td>0</td>\n",
       "      <td>0</td>\n",
       "      <td>...</td>\n",
       "      <td>0</td>\n",
       "      <td>0</td>\n",
       "      <td>0</td>\n",
       "      <td>0</td>\n",
       "      <td>0</td>\n",
       "      <td>0</td>\n",
       "      <td>0</td>\n",
       "      <td>0</td>\n",
       "      <td>0</td>\n",
       "      <td>0</td>\n",
       "    </tr>\n",
       "  </tbody>\n",
       "</table>\n",
       "<p>5 rows × 785 columns</p>\n",
       "</div>"
      ],
      "text/plain": [
       "   label  pixel0  pixel1  pixel2  pixel3  pixel4  pixel5  pixel6  pixel7  \\\n",
       "0      1       0       0       0       0       0       0       0       0   \n",
       "1      0       0       0       0       0       0       0       0       0   \n",
       "2      1       0       0       0       0       0       0       0       0   \n",
       "3      4       0       0       0       0       0       0       0       0   \n",
       "4      0       0       0       0       0       0       0       0       0   \n",
       "\n",
       "   pixel8    ...     pixel774  pixel775  pixel776  pixel777  pixel778  \\\n",
       "0       0    ...            0         0         0         0         0   \n",
       "1       0    ...            0         0         0         0         0   \n",
       "2       0    ...            0         0         0         0         0   \n",
       "3       0    ...            0         0         0         0         0   \n",
       "4       0    ...            0         0         0         0         0   \n",
       "\n",
       "   pixel779  pixel780  pixel781  pixel782  pixel783  \n",
       "0         0         0         0         0         0  \n",
       "1         0         0         0         0         0  \n",
       "2         0         0         0         0         0  \n",
       "3         0         0         0         0         0  \n",
       "4         0         0         0         0         0  \n",
       "\n",
       "[5 rows x 785 columns]"
      ]
     },
     "execution_count": 2,
     "metadata": {},
     "output_type": "execute_result"
    }
   ],
   "source": [
    "train = pd.read_csv('./Data/train.csv')\n",
    "train.head()"
   ]
  },
  {
   "cell_type": "code",
   "execution_count": 3,
   "metadata": {},
   "outputs": [],
   "source": [
    "test = pd.read_csv(\"./Data/test.csv\")"
   ]
  },
  {
   "cell_type": "code",
   "execution_count": 4,
   "metadata": {},
   "outputs": [
    {
     "data": {
      "text/plain": [
       "pandas.core.frame.DataFrame"
      ]
     },
     "execution_count": 4,
     "metadata": {},
     "output_type": "execute_result"
    }
   ],
   "source": [
    "type(train)"
   ]
  },
  {
   "cell_type": "code",
   "execution_count": 5,
   "metadata": {},
   "outputs": [],
   "source": [
    "# Getting Training Data\n",
    "y = train[\"label\"]\n",
    "g = sns.countplot(y)\n",
    "x_train = train.drop(labels = [\"label\"], axis = 1)"
   ]
  },
  {
   "cell_type": "code",
   "execution_count": 6,
   "metadata": {},
   "outputs": [
    {
     "data": {
      "text/plain": [
       "count       784\n",
       "unique        1\n",
       "top       False\n",
       "freq        784\n",
       "dtype: object"
      ]
     },
     "execution_count": 6,
     "metadata": {},
     "output_type": "execute_result"
    }
   ],
   "source": [
    "# Checking for Null Values\n",
    "x_train.isnull().any().describe()"
   ]
  },
  {
   "cell_type": "code",
   "execution_count": 7,
   "metadata": {},
   "outputs": [],
   "source": [
    "# Normalisation\n",
    "x_train = x_train/255.0\n",
    "test = test/255.0"
   ]
  },
  {
   "cell_type": "code",
   "execution_count": 8,
   "metadata": {},
   "outputs": [],
   "source": [
    "# Reshape image in 3 dimensions (height = 28px, width = 28px , canal = 1)\n",
    "x_train = x_train.values.reshape(-1, 28, 28, 1)\n",
    "test = test.values.reshape(-1, 28, 28, 1)"
   ]
  },
  {
   "cell_type": "code",
   "execution_count": 9,
   "metadata": {},
   "outputs": [],
   "source": [
    "# Label Encoding\n",
    "y = to_categorical(y, num_classes = 10)\n"
   ]
  },
  {
   "cell_type": "code",
   "execution_count": 10,
   "metadata": {},
   "outputs": [],
   "source": [
    "# Split Train and Validation for Fitting\n",
    "X_train, X_test, Y_train, Y_test = train_test_split(x_train, y, test_size=0.1,random_state=2)"
   ]
  },
  {
   "cell_type": "code",
   "execution_count": 12,
   "metadata": {},
   "outputs": [
    {
     "data": {
      "image/png": "[encoded data removed]",
      "text/plain": [
       "<matplotlib.figure.Figure at 0x1a2ddfc198>"
      ]
     },
     "metadata": {},
     "output_type": "display_data"
    }
   ],
   "source": [
    "g = plt.imshow(X_train[0][:,:,0])\n",
    "plt.show()"
   ]
  },
  {
   "cell_type": "code",
   "execution_count": 13,
   "metadata": {},
   "outputs": [],
   "source": [
    "# Building an CNN Model\n",
    "model = Sequential()"
   ]
  },
  {
   "cell_type": "code",
   "execution_count": 14,
   "metadata": {},
   "outputs": [],
   "source": [
    "model.add(Conv2D(filters = 32, kernel_size = (5, 5), padding = 'Same', activation = 'relu', input_shape = (28, 28, 1)))"
   ]
  },
  {
   "cell_type": "code",
   "execution_count": 15,
   "metadata": {},
   "outputs": [],
   "source": [
    "model.add(Conv2D(filters = 32, kernel_size = (5, 5), padding = 'Same', activation = 'relu'))"
   ]
  },
  {
   "cell_type": "code",
   "execution_count": 16,
   "metadata": {},
   "outputs": [],
   "source": [
    "model.add(MaxPool2D(pool_size = (2, 2)))\n",
    "model.add(Dropout(0.25))"
   ]
  },
  {
   "cell_type": "code",
   "execution_count": 17,
   "metadata": {},
   "outputs": [],
   "source": [
    "model.add(Conv2D(filters = 64, kernel_size = (3, 3), padding = 'Same', activation = 'relu'))"
   ]
  },
  {
   "cell_type": "raw",
   "metadata": {},
   "source": [
    "model.add(Conv2D(filters = 64, kernel_size = (3, 3), padding = 'Same', activation = 'relu'))"
   ]
  },
  {
   "cell_type": "code",
   "execution_count": 19,
   "metadata": {},
   "outputs": [],
   "source": [
    "model.add(Flatten())\n",
    "model.add(Dense(256, activation = 'relu'))\n",
    "model.add(Dense(10, activation = 'softmax'))"
   ]
  },
  {
   "cell_type": "code",
   "execution_count": 22,
   "metadata": {},
   "outputs": [],
   "source": [
    "# Define the optimizer\n",
    "optimizer = RMSprop(lr = 0.001, epsilon = 1e-08, rho = 0.9, decay=0.0)"
   ]
  },
  {
   "cell_type": "code",
   "execution_count": 23,
   "metadata": {},
   "outputs": [],
   "source": [
    "#Compile the model\n",
    "model.compile(optimizer = optimizer, loss = \"categorical_crossentropy\", metrics = [\"accuracy\"])"
   ]
  },
  {
   "cell_type": "code",
   "execution_count": 25,
   "metadata": {},
   "outputs": [],
   "source": [
    "learning_rate_reduction = ReduceLROnPlateau(monitor = 'val_acc', verbose = 1, patience = 3, factor = 0.5, min_lr = 0.00001)"
   ]
  },
  {
   "cell_type": "code",
   "execution_count": 26,
   "metadata": {},
   "outputs": [],
   "source": [
    "epochs = 30\n",
    "batch_size = 86"
   ]
  },
  {
   "cell_type": "code",
   "execution_count": 27,
   "metadata": {},
   "outputs": [],
   "source": [
    "# Data Augmentation\n",
    "datagen = ImageDataGenerator(rotation_range = 10, zoom_range = 0.1, width_shift_range=0.1, height_shift_range=0.1)"
   ]
  },
  {
   "cell_type": "code",
   "execution_count": 28,
   "metadata": {},
   "outputs": [],
   "source": [
    "datagen.fit(X_train)"
   ]
  },
  {
   "cell_type": "code",
   "execution_count": 30,
   "metadata": {},
   "outputs": [
    {
     "name": "stdout",
     "output_type": "stream",
     "text": [
      "Train on 37800 samples, validate on 4200 samples\n",
      "Epoch 1/30\n",
      " - 251s - loss: 0.0554 - acc: 0.9833 - val_loss: 0.0508 - val_acc: 0.9857\n",
      "Epoch 2/30\n",
      " - 246s - loss: 0.0357 - acc: 0.9892 - val_loss: 0.0571 - val_acc: 0.9850\n",
      "Epoch 3/30\n",
      " - 239s - loss: 0.0277 - acc: 0.9918 - val_loss: 0.0463 - val_acc: 0.9895\n",
      "Epoch 4/30\n",
      " - 242s - loss: 0.0211 - acc: 0.9934 - val_loss: 0.0397 - val_acc: 0.9905\n",
      "Epoch 5/30\n",
      " - 244s - loss: 0.0171 - acc: 0.9952 - val_loss: 0.0382 - val_acc: 0.9917\n",
      "Epoch 6/30\n",
      " - 242s - loss: 0.0142 - acc: 0.9956 - val_loss: 0.0420 - val_acc: 0.9921\n",
      "Epoch 7/30\n",
      " - 241s - loss: 0.0121 - acc: 0.9961 - val_loss: 0.0371 - val_acc: 0.9914\n",
      "Epoch 8/30\n",
      " - 256s - loss: 0.0130 - acc: 0.9968 - val_loss: 0.0502 - val_acc: 0.9900\n",
      "Epoch 9/30\n",
      " - 282s - loss: 0.0094 - acc: 0.9977 - val_loss: 0.0514 - val_acc: 0.9912\n",
      "Epoch 10/30\n",
      " - 274s - loss: 0.0095 - acc: 0.9974 - val_loss: 0.0698 - val_acc: 0.9929\n",
      "Epoch 11/30\n",
      " - 235s - loss: 0.0097 - acc: 0.9976 - val_loss: 0.0554 - val_acc: 0.9914\n",
      "Epoch 12/30\n",
      " - 234s - loss: 0.0076 - acc: 0.9982 - val_loss: 0.0987 - val_acc: 0.9902\n",
      "Epoch 13/30\n",
      " - 258s - loss: 0.0118 - acc: 0.9977 - val_loss: 0.0509 - val_acc: 0.9933\n",
      "Epoch 14/30\n",
      " - 253s - loss: 0.0075 - acc: 0.9986 - val_loss: 0.0847 - val_acc: 0.9898\n",
      "Epoch 15/30\n",
      " - 250s - loss: 0.0066 - acc: 0.9986 - val_loss: 0.0622 - val_acc: 0.9924\n",
      "Epoch 16/30\n",
      " - 251s - loss: 0.0097 - acc: 0.9982 - val_loss: 0.0742 - val_acc: 0.9914\n",
      "Epoch 17/30\n",
      " - 252s - loss: 0.0092 - acc: 0.9985 - val_loss: 0.0641 - val_acc: 0.9931\n",
      "Epoch 18/30\n",
      " - 252s - loss: 0.0073 - acc: 0.9987 - val_loss: 0.1294 - val_acc: 0.9881\n",
      "Epoch 19/30\n",
      " - 252s - loss: 0.0114 - acc: 0.9986 - val_loss: 0.1157 - val_acc: 0.9902\n",
      "Epoch 20/30\n",
      " - 252s - loss: 0.0064 - acc: 0.9992 - val_loss: 0.0624 - val_acc: 0.9938\n",
      "Epoch 21/30\n",
      " - 252s - loss: 0.0116 - acc: 0.9984 - val_loss: 0.0916 - val_acc: 0.9921\n",
      "Epoch 22/30\n",
      " - 253s - loss: 0.0104 - acc: 0.9987 - val_loss: 0.1332 - val_acc: 0.9871\n",
      "Epoch 23/30\n",
      " - 255s - loss: 0.0081 - acc: 0.9989 - val_loss: 0.0942 - val_acc: 0.9912\n",
      "Epoch 24/30\n",
      " - 252s - loss: 0.0080 - acc: 0.9989 - val_loss: 0.1243 - val_acc: 0.9912\n",
      "Epoch 25/30\n",
      " - 253s - loss: 0.0072 - acc: 0.9992 - val_loss: 0.1143 - val_acc: 0.9914\n",
      "Epoch 26/30\n",
      " - 253s - loss: 0.0091 - acc: 0.9988 - val_loss: 0.1179 - val_acc: 0.9895\n",
      "Epoch 27/30\n",
      " - 252s - loss: 0.0068 - acc: 0.9993 - val_loss: 0.1028 - val_acc: 0.9914\n",
      "Epoch 28/30\n",
      " - 249s - loss: 0.0127 - acc: 0.9987 - val_loss: 0.1109 - val_acc: 0.9917\n",
      "Epoch 29/30\n",
      " - 252s - loss: 0.0138 - acc: 0.9988 - val_loss: 0.1058 - val_acc: 0.9926\n",
      "Epoch 30/30\n",
      " - 311s - loss: 0.0155 - acc: 0.9985 - val_loss: 0.1175 - val_acc: 0.9917\n"
     ]
    }
   ],
   "source": [
    "# Model Without Data Augmentation\n",
    "history = model.fit(X_train, Y_train, batch_size = batch_size, epochs = epochs, validation_data = (X_test, Y_test), verbose = 2)"
   ]
  },
  {
   "cell_type": "code",
   "execution_count": 45,
   "metadata": {},
   "outputs": [
    {
     "name": "stdout",
     "output_type": "stream",
     "text": [
      "Epoch 1/30\n",
      " - 299s - loss: 0.0242 - acc: 0.9928 - val_loss: 0.0237 - val_acc: 0.9950\n",
      "Epoch 2/30\n",
      " - 278s - loss: 0.0288 - acc: 0.9921 - val_loss: 0.0191 - val_acc: 0.9936\n",
      "Epoch 3/30\n",
      " - 300s - loss: 0.0286 - acc: 0.9926 - val_loss: 0.0225 - val_acc: 0.9943\n",
      "Epoch 4/30\n",
      " - 316s - loss: 0.0257 - acc: 0.9931 - val_loss: 0.0239 - val_acc: 0.9950\n",
      "Epoch 5/30\n",
      " - 288s - loss: 0.0279 - acc: 0.9920 - val_loss: 0.0222 - val_acc: 0.9938\n",
      "\n",
      "Epoch 00005: ReduceLROnPlateau reducing learning rate to 0.0002500000118743628.\n",
      "Epoch 6/30\n",
      " - 293s - loss: 0.0217 - acc: 0.9938 - val_loss: 0.0202 - val_acc: 0.9945\n",
      "Epoch 7/30\n",
      " - 289s - loss: 0.0225 - acc: 0.9938 - val_loss: 0.0201 - val_acc: 0.9936\n",
      "Epoch 8/30\n",
      " - 289s - loss: 0.0217 - acc: 0.9939 - val_loss: 0.0242 - val_acc: 0.9931\n",
      "\n",
      "Epoch 00008: ReduceLROnPlateau reducing learning rate to 0.0001250000059371814.\n",
      "Epoch 9/30\n",
      " - 279s - loss: 0.0173 - acc: 0.9947 - val_loss: 0.0303 - val_acc: 0.9940\n",
      "Epoch 10/30\n",
      " - 280s - loss: 0.0171 - acc: 0.9949 - val_loss: 0.0207 - val_acc: 0.9952\n",
      "Epoch 11/30\n",
      " - 266s - loss: 0.0169 - acc: 0.9947 - val_loss: 0.0281 - val_acc: 0.9943\n",
      "Epoch 12/30\n",
      " - 290s - loss: 0.0184 - acc: 0.9950 - val_loss: 0.0201 - val_acc: 0.9948\n",
      "Epoch 13/30\n",
      " - 298s - loss: 0.0160 - acc: 0.9954 - val_loss: 0.0217 - val_acc: 0.9945\n",
      "Epoch 14/30\n",
      " - 294s - loss: 0.0179 - acc: 0.9949 - val_loss: 0.0207 - val_acc: 0.9945\n",
      "\n",
      "Epoch 00014: ReduceLROnPlateau reducing learning rate to 6.25000029685907e-05.\n",
      "Epoch 15/30\n",
      " - 295s - loss: 0.0153 - acc: 0.9955 - val_loss: 0.0233 - val_acc: 0.9945\n",
      "Epoch 16/30\n",
      " - 315s - loss: 0.0165 - acc: 0.9952 - val_loss: 0.0205 - val_acc: 0.9945\n",
      "Epoch 17/30\n",
      " - 302s - loss: 0.0157 - acc: 0.9953 - val_loss: 0.0221 - val_acc: 0.9952\n",
      "\n",
      "Epoch 00017: ReduceLROnPlateau reducing learning rate to 3.125000148429535e-05.\n",
      "Epoch 18/30\n",
      " - 310s - loss: 0.0144 - acc: 0.9958 - val_loss: 0.0204 - val_acc: 0.9950\n",
      "Epoch 19/30\n",
      " - 315s - loss: 0.0167 - acc: 0.9952 - val_loss: 0.0215 - val_acc: 0.9943\n",
      "Epoch 20/30\n",
      " - 305s - loss: 0.0155 - acc: 0.9957 - val_loss: 0.0219 - val_acc: 0.9945\n",
      "\n",
      "Epoch 00020: ReduceLROnPlateau reducing learning rate to 1.5625000742147677e-05.\n",
      "Epoch 21/30\n",
      " - 314s - loss: 0.0148 - acc: 0.9957 - val_loss: 0.0217 - val_acc: 0.9950\n",
      "Epoch 22/30\n",
      " - 303s - loss: 0.0139 - acc: 0.9962 - val_loss: 0.0225 - val_acc: 0.9948\n",
      "Epoch 23/30\n",
      " - 303s - loss: 0.0145 - acc: 0.9956 - val_loss: 0.0212 - val_acc: 0.9950\n",
      "\n",
      "Epoch 00023: ReduceLROnPlateau reducing learning rate to 1e-05.\n",
      "Epoch 24/30\n",
      " - 289s - loss: 0.0159 - acc: 0.9955 - val_loss: 0.0210 - val_acc: 0.9952\n",
      "Epoch 25/30\n",
      " - 305s - loss: 0.0142 - acc: 0.9962 - val_loss: 0.0214 - val_acc: 0.9955\n",
      "Epoch 26/30\n",
      " - 269s - loss: 0.0148 - acc: 0.9958 - val_loss: 0.0217 - val_acc: 0.9952\n",
      "Epoch 27/30\n",
      " - 269s - loss: 0.0138 - acc: 0.9959 - val_loss: 0.0215 - val_acc: 0.9957\n",
      "Epoch 28/30\n",
      " - 267s - loss: 0.0142 - acc: 0.9955 - val_loss: 0.0222 - val_acc: 0.9950\n",
      "Epoch 29/30\n",
      " - 283s - loss: 0.0144 - acc: 0.9960 - val_loss: 0.0220 - val_acc: 0.9945\n",
      "Epoch 30/30\n",
      " - 258s - loss: 0.0126 - acc: 0.9961 - val_loss: 0.0221 - val_acc: 0.9952\n"
     ]
    }
   ],
   "source": [
    "history1 = model.fit_generator(datagen.flow(X_train, Y_train, batch_size = batch_size), epochs = epochs, validation_data=(X_test, Y_test), verbose = 2, steps_per_epoch=X_train.shape[0]//batch_size, callbacks=[learning_rate_reduction])"
   ]
  },
  {
   "cell_type": "code",
   "execution_count": 46,
   "metadata": {},
   "outputs": [],
   "source": [
    "# Plot the loss and accuracy of the curves for training and validation\n",
    "fig, ax = plt.subplots(2, 1)\n",
    "ax[0].plot(history1.history['loss'], color = 'b', label = 'Training Loss')\n",
    "ax[0].plot(history1.history['val_loss'], color='r', label=\"validation loss\",axes =ax[0])\n",
    "legend = ax[0].legend(loc='best', shadow = \"True\")\n",
    "ax[1].plot(history1.history['acc'], color = 'b', label = \"Training Accuracy\")\n",
    "ax[1].plot(history1.history['val_acc'], color = 'r', label = \"Validation Accuracy\")\n",
    "legend = ax[1].legend(loc='best', shadow=True)"
   ]
  },
  {
   "cell_type": "code",
   "execution_count": 47,
   "metadata": {},
   "outputs": [
    {
     "data": {
      "image/png": "[encoded data removed]",
      "text/plain": [
       "<matplotlib.figure.Figure at 0x1a26f87668>"
      ]
     },
     "metadata": {},
     "output_type": "display_data"
    }
   ],
   "source": [
    "plt.show()"
   ]
  },
  {
   "cell_type": "code",
   "execution_count": 48,
   "metadata": {},
   "outputs": [],
   "source": [
    "Y_pred = model.predict(X_test)\n",
    "Y_pred_classes = np.argmax(Y_pred, axis = 1)\n",
    "Y_true = np.argmax(Y_test, axis = 1)\n"
   ]
  },
  {
   "cell_type": "code",
   "execution_count": 49,
   "metadata": {},
   "outputs": [
    {
     "data": {
      "image/png": "[encoded data removed]",
      "text/plain": [
       "<matplotlib.figure.Figure at 0x1a24daf080>"
      ]
     },
     "metadata": {},
     "output_type": "display_data"
    }
   ],
   "source": [
    "# Display some error results \n",
    "\n",
    "# Errors are difference between predicted labels and true labels\n",
    "errors = (Y_pred_classes - Y_true != 0)\n",
    "\n",
    "Y_pred_classes_errors = Y_pred_classes[errors]\n",
    "Y_pred_errors = Y_test[errors]\n",
    "Y_true_errors = Y_true[errors]\n",
    "X_val_errors = X_test[errors]\n",
    "\n",
    "def display_errors(errors_index,img_errors,pred_errors, obs_errors):\n",
    "    \"\"\" This function shows 6 images with their predicted and real labels\"\"\"\n",
    "    n = 0\n",
    "    nrows = 2\n",
    "    ncols = 3\n",
    "    fig, ax = plt.subplots(nrows,ncols,sharex=True,sharey=True)\n",
    "    for row in range(nrows):\n",
    "        for col in range(ncols):\n",
    "            error = errors_index[n]\n",
    "            ax[row,col].imshow((img_errors[error]).reshape((28,28)))\n",
    "            ax[row,col].set_title(\"Predicted label :{}\\nTrue label :{}\".format(pred_errors[error],obs_errors[error]))\n",
    "            n += 1\n",
    "    plt.show()\n",
    "\n",
    "# Probabilities of the wrong predicted numbers\n",
    "Y_pred_errors_prob = np.max(Y_pred_errors,axis = 1)\n",
    "\n",
    "# Predicted probabilities of the true values in the error set\n",
    "true_prob_errors = np.diagonal(np.take(Y_pred_errors, Y_true_errors, axis=1))\n",
    "\n",
    "# Difference between the probability of the predicted label and the true label\n",
    "delta_pred_true_errors = Y_pred_errors_prob - true_prob_errors\n",
    "\n",
    "# Sorted list of the delta prob errors\n",
    "sorted_dela_errors = np.argsort(delta_pred_true_errors)\n",
    "\n",
    "# Top 6 errors \n",
    "most_important_errors = sorted_dela_errors[-6:]\n",
    "\n",
    "# Show the top 6 errors\n",
    "display_errors(most_important_errors, X_val_errors, Y_pred_classes_errors, Y_true_errors)\n"
   ]
  },
  {
   "cell_type": "code",
   "execution_count": 50,
   "metadata": {},
   "outputs": [],
   "source": [
    "# Prediction \n",
    "prediction = model.predict(test)\n",
    "results = np.argmax(prediction, axis = 1)\n",
    "results = pd.Series(data = results, name = 'Labels')"
   ]
  },
  {
   "cell_type": "code",
   "execution_count": null,
   "metadata": {},
   "outputs": [],
   "source": []
  }
 ],
 "metadata": {
  "kernelspec": {
   "display_name": "Python 3",
   "language": "python",
   "name": "python3"
  },
  "language_info": {
   "codemirror_mode": {
    "name": "ipython",
    "version": 3
   },
   "file_extension": ".py",
   "mimetype": "text/x-python",
   "name": "python",
   "nbconvert_exporter": "python",
   "pygments_lexer": "ipython3",
   "version": "3.6.3"
  }
 },
 "nbformat": 4,
 "nbformat_minor": 2
}
